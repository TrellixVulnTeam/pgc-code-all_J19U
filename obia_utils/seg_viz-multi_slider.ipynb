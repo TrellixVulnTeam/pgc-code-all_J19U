{
 "cells": [
  {
   "cell_type": "markdown",
   "metadata": {},
   "source": [
    " <h3 style=\"text-align: center;\"><font size=\"6\">Visualizing Object Based Image Analysis</font></h3>\n",
    "<h4 style=\"text-align: center;\"><font size=\"4\"><i>A tool to aid in classifying remote sensing data</i></font></h4>\n",
    "Classification is the process of grouping objects in an image into classes based on what they are. For example, a land-cover classification will often contain class for urban areas, forest, water, and agriculture. One method of classifying remotely sensed data is called 'Object-Based-Image-Analysis' or OBIA. OBIA groups, or segments, pixels in an image together based on their values, creating <i>image objects</i>. These image objects can then be classified according to what they represent. Objects can be classified by the information related not only to their pixel values (i.e. red, green, blue, near-infrared values), but also by the other <i> elements of image interpretation</i>:\n",
    "<ul style=\"list-style-type:disc;\">\n",
    "  <li>tone/color</li>\n",
    "  <li>size</li>\n",
    "  <li>shape</li>\n",
    "    <li>texture </li>\n",
    "    <li>pattern </li>\n",
    "    <li>shadow</li>\n",
    "    <li>site</li>\n",
    "    <li>association </li>\n",
    "</ul> \n",
    "<br>\n",
    "This notebook is a tool to aid in determining which parameters will classify image objects as desired, by providing an interactive visualization of these parameters.\n",
    "\n",
    "The notebook takes as input a shapefile exported from eCognition with image object statistics ('mean NDVI', GLCM Homogeneity, 'mean Elevation', etc.) calculated. This shapefile may also already contain some classes, to allow for restricting the visualization further."
   ]
  },
  {
   "cell_type": "markdown",
   "metadata": {},
   "source": [
    "#### Run the first cell to input your shapefile:"
   ]
  },
  {
   "cell_type": "code",
   "execution_count": 1,
   "metadata": {},
   "outputs": [],
   "source": [
    "# Enter the path to the shapefile exported from eCognition, containing feature attributes \n",
    "# shp_in = input('Path to shapefile: ')\n",
    "# shp_path = r'{}'.format(shp_in)\n",
    "\n",
    "# Alternatively, use this demo shapefile\n",
    "shp_path = r'V:\\pgc\\data\\scratch\\jeff\\ms\\scratch\\aoi6_good\\seg\\WV02_20150906_clip_ms_lsms_sr5rr200ss400_stats.shp'"
   ]
  },
  {
   "cell_type": "code",
   "execution_count": 2,
   "metadata": {},
   "outputs": [
    {
     "data": {
      "text/plain": "<IPython.core.display.HTML object>",
      "text/html": "<style>.container { width:100% !important; }</style>"
     },
     "metadata": {},
     "output_type": "display_data"
    }
   ],
   "source": [
    "import geopandas as gpd\n",
    "import matplotlib.pyplot as plt\n",
    "import matplotlib as mpl\n",
    "import matplotlib.gridspec as gridspec\n",
    "\n",
    "from ipywidgets import interact, interactive, fixed, interact_manual, Checkbox, Layout\n",
    "import ipywidgets as widgets\n",
    "from IPython.display import display\n",
    "\n",
    "from IPython.core.display import display, HTML\n",
    "display(HTML(\"<style>.container { width:100% !important; }</style>\"))"
   ]
  },
  {
   "cell_type": "code",
   "execution_count": 3,
   "metadata": {},
   "outputs": [
    {
     "data": {
      "text/plain": "<IPython.core.display.Javascript object>",
      "application/javascript": "IPython.OutputArea.prototype._should_scroll = function(lines) {\n    return false;\n}\n\n"
     },
     "metadata": {},
     "output_type": "display_data"
    }
   ],
   "source": [
    "%%javascript\n",
    "IPython.OutputArea.prototype._should_scroll = function(lines) {\n",
    "    return false;\n",
    "}"
   ]
  },
  {
   "cell_type": "code",
   "execution_count": 4,
   "metadata": {},
   "outputs": [
    {
     "data": {
      "text/plain": "   label  nbPixels       meanB0      meanB1      meanB2      meanB3  \\\n0      8       470   975.740417  846.668091  741.719177  682.063843   \n1     12       476   949.069336  816.086121  696.737366  622.411743   \n2    205       917  1050.007690  951.898560  896.930237  890.019653   \n3      1      1470   985.734009  870.038757  794.068054  761.442871   \n4      7       530  1021.352844  903.949036  828.813232  818.890564   \n\n       meanB4      meanB5      meanB6      meanB7  ...  diff_mean  diffndvi_m  \\\n0  718.885132  647.229797  721.378723  611.278748  ...  -0.349691   -0.180955   \n1  650.449585  571.741577  642.268921  537.697449  ...  -0.209990   -0.207481   \n2  943.801514  861.258423  914.695740  765.061096  ...  -0.639082   -0.250394   \n3  804.283020  741.761902  809.204773  689.134705  ...  -0.331590   -0.110453   \n4  849.818848  792.243408  839.496216  716.277344  ...  -0.474951   -0.142328   \n\n   diffndvi_1  diffndvi_2  ndvi_min  ndvi_max  ndvi_mean      area_m  \\\n0   -0.020061   -0.077499 -0.052330  0.047766   0.002365  136.272180   \n1   -0.034476   -0.078315 -0.072065  0.053512  -0.005433  138.011825   \n2   -0.006737   -0.045018 -0.122995  0.012791  -0.017661  265.875721   \n3   -0.013676   -0.045655 -0.041060  0.058824   0.003046  426.212987   \n4    0.017379   -0.054561 -0.053168  0.082495  -0.006495  153.668628   \n\n    compact                                           geometry  \n0  0.201112  POLYGON ((-1752074.484 -558045.423, -1752048.9...  \n1  0.168417  POLYGON ((-1752048.957 -558045.423, -1752036.7...  \n2  0.292222  POLYGON ((-1752070.399 -558050.534, -1752066.8...  \n3  0.378386  POLYGON ((-1752097.969 -558045.423, -1752076.5...  \n4  0.086662  POLYGON ((-1752076.526 -558045.423, -1752074.4...  \n\n[5 rows x 48 columns]",
      "text/html": "<div>\n<style scoped>\n    .dataframe tbody tr th:only-of-type {\n        vertical-align: middle;\n    }\n\n    .dataframe tbody tr th {\n        vertical-align: top;\n    }\n\n    .dataframe thead th {\n        text-align: right;\n    }\n</style>\n<table border=\"1\" class=\"dataframe\">\n  <thead>\n    <tr style=\"text-align: right;\">\n      <th></th>\n      <th>label</th>\n      <th>nbPixels</th>\n      <th>meanB0</th>\n      <th>meanB1</th>\n      <th>meanB2</th>\n      <th>meanB3</th>\n      <th>meanB4</th>\n      <th>meanB5</th>\n      <th>meanB6</th>\n      <th>meanB7</th>\n      <th>...</th>\n      <th>diff_mean</th>\n      <th>diffndvi_m</th>\n      <th>diffndvi_1</th>\n      <th>diffndvi_2</th>\n      <th>ndvi_min</th>\n      <th>ndvi_max</th>\n      <th>ndvi_mean</th>\n      <th>area_m</th>\n      <th>compact</th>\n      <th>geometry</th>\n    </tr>\n  </thead>\n  <tbody>\n    <tr>\n      <th>0</th>\n      <td>8</td>\n      <td>470</td>\n      <td>975.740417</td>\n      <td>846.668091</td>\n      <td>741.719177</td>\n      <td>682.063843</td>\n      <td>718.885132</td>\n      <td>647.229797</td>\n      <td>721.378723</td>\n      <td>611.278748</td>\n      <td>...</td>\n      <td>-0.349691</td>\n      <td>-0.180955</td>\n      <td>-0.020061</td>\n      <td>-0.077499</td>\n      <td>-0.052330</td>\n      <td>0.047766</td>\n      <td>0.002365</td>\n      <td>136.272180</td>\n      <td>0.201112</td>\n      <td>POLYGON ((-1752074.484 -558045.423, -1752048.9...</td>\n    </tr>\n    <tr>\n      <th>1</th>\n      <td>12</td>\n      <td>476</td>\n      <td>949.069336</td>\n      <td>816.086121</td>\n      <td>696.737366</td>\n      <td>622.411743</td>\n      <td>650.449585</td>\n      <td>571.741577</td>\n      <td>642.268921</td>\n      <td>537.697449</td>\n      <td>...</td>\n      <td>-0.209990</td>\n      <td>-0.207481</td>\n      <td>-0.034476</td>\n      <td>-0.078315</td>\n      <td>-0.072065</td>\n      <td>0.053512</td>\n      <td>-0.005433</td>\n      <td>138.011825</td>\n      <td>0.168417</td>\n      <td>POLYGON ((-1752048.957 -558045.423, -1752036.7...</td>\n    </tr>\n    <tr>\n      <th>2</th>\n      <td>205</td>\n      <td>917</td>\n      <td>1050.007690</td>\n      <td>951.898560</td>\n      <td>896.930237</td>\n      <td>890.019653</td>\n      <td>943.801514</td>\n      <td>861.258423</td>\n      <td>914.695740</td>\n      <td>765.061096</td>\n      <td>...</td>\n      <td>-0.639082</td>\n      <td>-0.250394</td>\n      <td>-0.006737</td>\n      <td>-0.045018</td>\n      <td>-0.122995</td>\n      <td>0.012791</td>\n      <td>-0.017661</td>\n      <td>265.875721</td>\n      <td>0.292222</td>\n      <td>POLYGON ((-1752070.399 -558050.534, -1752066.8...</td>\n    </tr>\n    <tr>\n      <th>3</th>\n      <td>1</td>\n      <td>1470</td>\n      <td>985.734009</td>\n      <td>870.038757</td>\n      <td>794.068054</td>\n      <td>761.442871</td>\n      <td>804.283020</td>\n      <td>741.761902</td>\n      <td>809.204773</td>\n      <td>689.134705</td>\n      <td>...</td>\n      <td>-0.331590</td>\n      <td>-0.110453</td>\n      <td>-0.013676</td>\n      <td>-0.045655</td>\n      <td>-0.041060</td>\n      <td>0.058824</td>\n      <td>0.003046</td>\n      <td>426.212987</td>\n      <td>0.378386</td>\n      <td>POLYGON ((-1752097.969 -558045.423, -1752076.5...</td>\n    </tr>\n    <tr>\n      <th>4</th>\n      <td>7</td>\n      <td>530</td>\n      <td>1021.352844</td>\n      <td>903.949036</td>\n      <td>828.813232</td>\n      <td>818.890564</td>\n      <td>849.818848</td>\n      <td>792.243408</td>\n      <td>839.496216</td>\n      <td>716.277344</td>\n      <td>...</td>\n      <td>-0.474951</td>\n      <td>-0.142328</td>\n      <td>0.017379</td>\n      <td>-0.054561</td>\n      <td>-0.053168</td>\n      <td>0.082495</td>\n      <td>-0.006495</td>\n      <td>153.668628</td>\n      <td>0.086662</td>\n      <td>POLYGON ((-1752076.526 -558045.423, -1752074.4...</td>\n    </tr>\n  </tbody>\n</table>\n<p>5 rows × 48 columns</p>\n</div>"
     },
     "execution_count": 4,
     "metadata": {},
     "output_type": "execute_result"
    }
   ],
   "source": [
    "# Read the file into geopandas\n",
    "shp = gpd.read_file(shp_path)\n",
    "shp.head()"
   ]
  },
  {
   "cell_type": "code",
   "execution_count": 5,
   "metadata": {},
   "outputs": [
    {
     "data": {
      "text/plain": "               label      nbPixels       meanB0       meanB1       meanB2  \\\ncount    3068.000000  3.068000e+03  3068.000000  3068.000000  3068.000000   \nmean   363907.346806  3.514895e+03   934.512541   807.234373   685.183980   \nstd    197096.719732  4.338792e+04    66.184749    72.697130    95.234813   \nmin         1.000000  4.000000e+02    15.822580    12.085254     7.707373   \n25%    207518.000000  5.650000e+02   902.722000   768.129868   624.267792   \n50%    353192.500000  8.235000e+02   939.546356   811.021240   689.296967   \n75%    542091.500000  1.584250e+03   967.338684   843.622940   740.236832   \nmax    720158.000000  1.971914e+06  1294.584839  1306.330200  1316.887329   \n\n            meanB3       meanB4       meanB5       meanB6       meanB7  ...  \\\ncount  3068.000000  3068.000000  3068.000000  3068.000000  3068.000000  ...   \nmean    618.729824   646.380606   587.203722   668.172177   580.303564  ...   \nstd     112.542263   125.661507   130.696026   149.404655   142.390784  ...   \nmin       5.020737     4.357143     1.995392     0.891705     0.018692  ...   \n25%     546.043716   565.857819   510.053101   597.999741   519.837601  ...   \n50%     621.253632   652.610718   595.804535   693.682281   605.984711  ...   \n75%     682.419464   720.119751   662.026596   755.065826   663.262177  ...   \nmax    1335.677490  1422.293213  1369.739258  1458.487671  1306.890381  ...   \n\n          diff_max    diff_mean   diffndvi_m   diffndvi_1   diffndvi_2  \\\ncount  3068.000000  3068.000000  3068.000000  3068.000000  3068.000000   \nmean      0.224233    -0.354060    -0.200570     0.050248    -0.073470   \nstd       0.609291     0.726042     0.161121     0.137479     0.061460   \nmin      -7.043945    -8.545166    -1.079337    -0.648179    -0.720399   \n25%       0.064453    -0.391838    -0.204568    -0.011730    -0.075738   \n50%       0.231445    -0.256110    -0.145162     0.009609    -0.061738   \n75%       0.415039    -0.139633    -0.113805     0.043075    -0.052195   \nmax       6.133789     2.345819    -0.011603     0.980490     0.356075   \n\n          ndvi_min     ndvi_max    ndvi_mean         area_m      compact  \ncount  3068.000000  3068.000000  3068.000000    3068.000000  3068.000000  \nmean     -0.108239     0.087946     0.006191    1019.111603     0.180619  \nstd       0.167224     0.060829     0.080040   12579.927376     0.077814  \nmin      -0.975962    -0.638225    -0.670479     115.976323     0.007075  \n25%      -0.114549     0.055800     0.001334     163.816556     0.121814  \n50%      -0.047850     0.087007     0.023708     238.766255     0.170727  \n75%      -0.016890     0.118929     0.038701     459.338725     0.229369  \nmax       0.129057     0.363272     0.240612  571738.338045     0.487221  \n\n[8 rows x 47 columns]",
      "text/html": "<div>\n<style scoped>\n    .dataframe tbody tr th:only-of-type {\n        vertical-align: middle;\n    }\n\n    .dataframe tbody tr th {\n        vertical-align: top;\n    }\n\n    .dataframe thead th {\n        text-align: right;\n    }\n</style>\n<table border=\"1\" class=\"dataframe\">\n  <thead>\n    <tr style=\"text-align: right;\">\n      <th></th>\n      <th>label</th>\n      <th>nbPixels</th>\n      <th>meanB0</th>\n      <th>meanB1</th>\n      <th>meanB2</th>\n      <th>meanB3</th>\n      <th>meanB4</th>\n      <th>meanB5</th>\n      <th>meanB6</th>\n      <th>meanB7</th>\n      <th>...</th>\n      <th>diff_max</th>\n      <th>diff_mean</th>\n      <th>diffndvi_m</th>\n      <th>diffndvi_1</th>\n      <th>diffndvi_2</th>\n      <th>ndvi_min</th>\n      <th>ndvi_max</th>\n      <th>ndvi_mean</th>\n      <th>area_m</th>\n      <th>compact</th>\n    </tr>\n  </thead>\n  <tbody>\n    <tr>\n      <th>count</th>\n      <td>3068.000000</td>\n      <td>3.068000e+03</td>\n      <td>3068.000000</td>\n      <td>3068.000000</td>\n      <td>3068.000000</td>\n      <td>3068.000000</td>\n      <td>3068.000000</td>\n      <td>3068.000000</td>\n      <td>3068.000000</td>\n      <td>3068.000000</td>\n      <td>...</td>\n      <td>3068.000000</td>\n      <td>3068.000000</td>\n      <td>3068.000000</td>\n      <td>3068.000000</td>\n      <td>3068.000000</td>\n      <td>3068.000000</td>\n      <td>3068.000000</td>\n      <td>3068.000000</td>\n      <td>3068.000000</td>\n      <td>3068.000000</td>\n    </tr>\n    <tr>\n      <th>mean</th>\n      <td>363907.346806</td>\n      <td>3.514895e+03</td>\n      <td>934.512541</td>\n      <td>807.234373</td>\n      <td>685.183980</td>\n      <td>618.729824</td>\n      <td>646.380606</td>\n      <td>587.203722</td>\n      <td>668.172177</td>\n      <td>580.303564</td>\n      <td>...</td>\n      <td>0.224233</td>\n      <td>-0.354060</td>\n      <td>-0.200570</td>\n      <td>0.050248</td>\n      <td>-0.073470</td>\n      <td>-0.108239</td>\n      <td>0.087946</td>\n      <td>0.006191</td>\n      <td>1019.111603</td>\n      <td>0.180619</td>\n    </tr>\n    <tr>\n      <th>std</th>\n      <td>197096.719732</td>\n      <td>4.338792e+04</td>\n      <td>66.184749</td>\n      <td>72.697130</td>\n      <td>95.234813</td>\n      <td>112.542263</td>\n      <td>125.661507</td>\n      <td>130.696026</td>\n      <td>149.404655</td>\n      <td>142.390784</td>\n      <td>...</td>\n      <td>0.609291</td>\n      <td>0.726042</td>\n      <td>0.161121</td>\n      <td>0.137479</td>\n      <td>0.061460</td>\n      <td>0.167224</td>\n      <td>0.060829</td>\n      <td>0.080040</td>\n      <td>12579.927376</td>\n      <td>0.077814</td>\n    </tr>\n    <tr>\n      <th>min</th>\n      <td>1.000000</td>\n      <td>4.000000e+02</td>\n      <td>15.822580</td>\n      <td>12.085254</td>\n      <td>7.707373</td>\n      <td>5.020737</td>\n      <td>4.357143</td>\n      <td>1.995392</td>\n      <td>0.891705</td>\n      <td>0.018692</td>\n      <td>...</td>\n      <td>-7.043945</td>\n      <td>-8.545166</td>\n      <td>-1.079337</td>\n      <td>-0.648179</td>\n      <td>-0.720399</td>\n      <td>-0.975962</td>\n      <td>-0.638225</td>\n      <td>-0.670479</td>\n      <td>115.976323</td>\n      <td>0.007075</td>\n    </tr>\n    <tr>\n      <th>25%</th>\n      <td>207518.000000</td>\n      <td>5.650000e+02</td>\n      <td>902.722000</td>\n      <td>768.129868</td>\n      <td>624.267792</td>\n      <td>546.043716</td>\n      <td>565.857819</td>\n      <td>510.053101</td>\n      <td>597.999741</td>\n      <td>519.837601</td>\n      <td>...</td>\n      <td>0.064453</td>\n      <td>-0.391838</td>\n      <td>-0.204568</td>\n      <td>-0.011730</td>\n      <td>-0.075738</td>\n      <td>-0.114549</td>\n      <td>0.055800</td>\n      <td>0.001334</td>\n      <td>163.816556</td>\n      <td>0.121814</td>\n    </tr>\n    <tr>\n      <th>50%</th>\n      <td>353192.500000</td>\n      <td>8.235000e+02</td>\n      <td>939.546356</td>\n      <td>811.021240</td>\n      <td>689.296967</td>\n      <td>621.253632</td>\n      <td>652.610718</td>\n      <td>595.804535</td>\n      <td>693.682281</td>\n      <td>605.984711</td>\n      <td>...</td>\n      <td>0.231445</td>\n      <td>-0.256110</td>\n      <td>-0.145162</td>\n      <td>0.009609</td>\n      <td>-0.061738</td>\n      <td>-0.047850</td>\n      <td>0.087007</td>\n      <td>0.023708</td>\n      <td>238.766255</td>\n      <td>0.170727</td>\n    </tr>\n    <tr>\n      <th>75%</th>\n      <td>542091.500000</td>\n      <td>1.584250e+03</td>\n      <td>967.338684</td>\n      <td>843.622940</td>\n      <td>740.236832</td>\n      <td>682.419464</td>\n      <td>720.119751</td>\n      <td>662.026596</td>\n      <td>755.065826</td>\n      <td>663.262177</td>\n      <td>...</td>\n      <td>0.415039</td>\n      <td>-0.139633</td>\n      <td>-0.113805</td>\n      <td>0.043075</td>\n      <td>-0.052195</td>\n      <td>-0.016890</td>\n      <td>0.118929</td>\n      <td>0.038701</td>\n      <td>459.338725</td>\n      <td>0.229369</td>\n    </tr>\n    <tr>\n      <th>max</th>\n      <td>720158.000000</td>\n      <td>1.971914e+06</td>\n      <td>1294.584839</td>\n      <td>1306.330200</td>\n      <td>1316.887329</td>\n      <td>1335.677490</td>\n      <td>1422.293213</td>\n      <td>1369.739258</td>\n      <td>1458.487671</td>\n      <td>1306.890381</td>\n      <td>...</td>\n      <td>6.133789</td>\n      <td>2.345819</td>\n      <td>-0.011603</td>\n      <td>0.980490</td>\n      <td>0.356075</td>\n      <td>0.129057</td>\n      <td>0.363272</td>\n      <td>0.240612</td>\n      <td>571738.338045</td>\n      <td>0.487221</td>\n    </tr>\n  </tbody>\n</table>\n<p>8 rows × 47 columns</p>\n</div>"
     },
     "execution_count": 5,
     "metadata": {},
     "output_type": "execute_result"
    }
   ],
   "source": [
    "shp.describe()"
   ]
  },
  {
   "cell_type": "code",
   "execution_count": 6,
   "metadata": {},
   "outputs": [
    {
     "data": {
      "text/plain": "label            int64\nnbPixels         int64\nmeanB0         float64\nmeanB1         float64\nmeanB2         float64\nmeanB3         float64\nmeanB4         float64\nmeanB5         float64\nmeanB6         float64\nmeanB7         float64\nvarB0          float64\nvarB1          float64\nvarB2          float64\nvarB3          float64\nvarB4          float64\nvarB5          float64\nvarB6          float64\nvarB7          float64\nroughness_     float64\nroughnes_1     float64\nroughnes_2     float64\ntpi31_min      float64\ntpi31_max      float64\ntpi31_mean     float64\ntpi31_std      float64\ntpi41_min      float64\ntpi41_max      float64\ntpi41_mean     float64\ntpi41_std      float64\ntpi81_min      float64\ntpi81_max      float64\ntpi81_mean     float64\ntpi81_std      float64\nslope_max      float64\nslope_mean     float64\nslope_std      float64\ndiff_min       float64\ndiff_max       float64\ndiff_mean      float64\ndiffndvi_m     float64\ndiffndvi_1     float64\ndiffndvi_2     float64\nndvi_min       float64\nndvi_max       float64\nndvi_mean      float64\narea_m         float64\ncompact        float64\ngeometry      geometry\ndtype: object"
     },
     "execution_count": 6,
     "metadata": {},
     "output_type": "execute_result"
    }
   ],
   "source": [
    "shp.dtypes"
   ]
  },
  {
   "cell_type": "code",
   "execution_count": 7,
   "metadata": {},
   "outputs": [
    {
     "name": "stdout",
     "output_type": "stream",
     "text": [
      "Classes available for visualizing: ['Unclassified']\n"
     ]
    }
   ],
   "source": [
    "### Get information from shapefile for interacting and displaying\n",
    "# Define attribute column to display on load\n",
    "att1 = 'tpi81_mean' \n",
    "\n",
    "# Create a fake attribute for additional visualizing\n",
    "att2 = 'slope_mean'\n",
    "\n",
    "# Exclude the geometry and Class fields from the attributes that are options to display\n",
    "exclude = ['geometry', 'Class']\n",
    "attributes = [fld for fld in list(shp) if fld not in exclude]\n",
    "# print('Attributes available for visualizing: {}'.format(attributes))\n",
    "\n",
    "# Get classes in the shapefile\n",
    "shp['Class'] = 'Unclassified'\n",
    "all_classes = shp['Class'].unique()\n",
    "print('Classes available for visualizing: {}'.format(all_classes))"
   ]
  },
  {
   "cell_type": "code",
   "execution_count": 8,
   "metadata": {},
   "outputs": [
    {
     "name": "stdout",
     "output_type": "stream",
     "text": [
      "grid (2, 4)\n",
      "rs 2\n",
      "cs 3\n"
     ]
    },
    {
     "ename": "NameError",
     "evalue": "name 'ax' is not defined",
     "output_type": "error",
     "traceback": [
      "\u001B[1;31m---------------------------------------------------------------------------\u001B[0m",
      "\u001B[1;31mNameError\u001B[0m                                 Traceback (most recent call last)",
      "\u001B[1;32m<ipython-input-8-42bf0138935c>\u001B[0m in \u001B[0;36m<module>\u001B[1;34m\u001B[0m\n\u001B[0;32m     57\u001B[0m         \u001B[0max_pos_row\u001B[0m \u001B[1;33m+=\u001B[0m\u001B[1;36m1\u001B[0m\u001B[1;33m\u001B[0m\u001B[1;33m\u001B[0m\u001B[0m\n\u001B[0;32m     58\u001B[0m \u001B[1;33m\u001B[0m\u001B[0m\n\u001B[1;32m---> 59\u001B[1;33m \u001B[0matt_thresh\u001B[0m\u001B[1;33m(\u001B[0m\u001B[0matts\u001B[0m\u001B[1;33m)\u001B[0m\u001B[1;33m\u001B[0m\u001B[1;33m\u001B[0m\u001B[0m\n\u001B[0m\u001B[0;32m     60\u001B[0m \u001B[1;33m\u001B[0m\u001B[0m\n\u001B[0;32m     61\u001B[0m \u001B[1;33m\u001B[0m\u001B[0m\n",
      "\u001B[1;32m<ipython-input-8-42bf0138935c>\u001B[0m in \u001B[0;36matt_thresh\u001B[1;34m(classes)\u001B[0m\n\u001B[0;32m     41\u001B[0m     \u001B[0mmap_ax\u001B[0m \u001B[1;33m=\u001B[0m \u001B[0mplt\u001B[0m\u001B[1;33m.\u001B[0m\u001B[0msubplot2grid\u001B[0m\u001B[1;33m(\u001B[0m\u001B[0mgrid\u001B[0m\u001B[1;33m,\u001B[0m \u001B[1;33m(\u001B[0m\u001B[1;36m1\u001B[0m\u001B[1;33m,\u001B[0m\u001B[1;36m0\u001B[0m\u001B[1;33m)\u001B[0m\u001B[1;33m,\u001B[0m \u001B[0mrowspan\u001B[0m\u001B[1;33m=\u001B[0m\u001B[0mnum_atts\u001B[0m\u001B[1;33m,\u001B[0m \u001B[0mcolspan\u001B[0m\u001B[1;33m=\u001B[0m\u001B[0mratio\u001B[0m\u001B[1;33m[\u001B[0m\u001B[1;36m0\u001B[0m\u001B[1;33m]\u001B[0m\u001B[1;33m)\u001B[0m\u001B[1;33m\u001B[0m\u001B[1;33m\u001B[0m\u001B[0m\n\u001B[0;32m     42\u001B[0m     \u001B[0mmap_ax\u001B[0m\u001B[1;33m.\u001B[0m\u001B[0mset_title\u001B[0m\u001B[1;33m(\u001B[0m\u001B[1;34m'map'\u001B[0m\u001B[1;33m)\u001B[0m\u001B[1;33m\u001B[0m\u001B[1;33m\u001B[0m\u001B[0m\n\u001B[1;32m---> 43\u001B[1;33m     \u001B[0mshp\u001B[0m\u001B[1;33m.\u001B[0m\u001B[0mplot\u001B[0m\u001B[1;33m(\u001B[0m\u001B[0max\u001B[0m\u001B[1;33m=\u001B[0m\u001B[0max\u001B[0m\u001B[1;33m)\u001B[0m\u001B[1;33m\u001B[0m\u001B[1;33m\u001B[0m\u001B[0m\n\u001B[0m\u001B[0;32m     44\u001B[0m \u001B[1;33m\u001B[0m\u001B[0m\n\u001B[0;32m     45\u001B[0m     \u001B[1;31m# Add attribute histograms and threshold map\u001B[0m\u001B[1;33m\u001B[0m\u001B[1;33m\u001B[0m\u001B[1;33m\u001B[0m\u001B[0m\n",
      "\u001B[1;31mNameError\u001B[0m: name 'ax' is not defined"
     ]
    },
    {
     "data": {
      "text/plain": "<Figure size 576x576 with 1 Axes>",
      "image/png": "[encoded data removed]"
     },
     "metadata": {
      "needs_background": "light"
     },
     "output_type": "display_data"
    }
   ],
   "source": [
    "# Create checkboxes for each class - to include or exlude that class from the visualization\n",
    "chk = [Checkbox(description=a) for a in all_classes]\n",
    "\n",
    "\n",
    "# Slider controls\n",
    "def update_sliders(*args):\n",
    "    # Dynamically get minimum and maximum values for the attribute chosen\n",
    "    att_min = shp[att_dd.value].min()\n",
    "    att_max = shp[att_dd.value].max()\n",
    "    # Dynamically create a step size\n",
    "    step = (att_max - att_min) / 25\n",
    "    \n",
    "    # Set slider minimum and maximum limits and step size\n",
    "    min_slider.min = att_min - step\n",
    "    max_slider.min = att_min - step\n",
    "    min_slider.max = att_max + step \n",
    "    max_slider.max = att_max + step\n",
    "    min_slider.value = att_min \n",
    "    max_slider.value = att_max\n",
    "    min_slider.step = step\n",
    "    max_slider.step = step\n",
    "    \n",
    "\n",
    "# Function to plot and display attributes\n",
    "atts = ['ndvi_mean', 'slope_mean']\n",
    "def att_thresh(classes=[], ):\n",
    "    \n",
    "    # Define map to histogram size ratio\n",
    "    ratio = [3,1]\n",
    "    # Get number of attributes to be plotted\n",
    "    num_atts = len(atts) if len(atts) > 0 else 0\n",
    "    \n",
    "    ## Create figure\n",
    "    fig = plt.figure(1, figsize=(8,8))\n",
    "    grid = (num_atts, sum(ratio))\n",
    "    print('grid', grid)\n",
    "    gridspec.GridSpec(grid[0], grid[1])\n",
    "    print('rs', num_atts)\n",
    "    print('cs', ratio[0])\n",
    "    # Add map\n",
    "    map_ax = plt.subplot2grid(grid, (1,0), rowspan=num_atts, colspan=ratio[0])\n",
    "    map_ax.set_title('map')\n",
    "    shp.plot(ax=ax)\n",
    "    \n",
    "    # Add attribute histograms and threshold map\n",
    "    selection = shp\n",
    "    ax_pos_row = ratio[0] # zero indexed, so subtract 1\n",
    "    ax_pos_col = 0\n",
    "    print('pr', ax_pos_row)\n",
    "    print('pc', ax_pos_col)\n",
    "    for att in atts:\n",
    "        loc = (ax_pos_row, ax_pos_col)\n",
    "#         loc = (0,3)\n",
    "        print(att, loc)\n",
    "        hist_ax = plt.subplot2grid(grid, loc)\n",
    "        N, bins, patchs = hist_ax.hist(selection[att], bins=20)\n",
    "        ax_pos_row +=1\n",
    "        \n",
    "att_thresh(atts)\n"
   ]
  },
  {
   "cell_type": "markdown",
   "metadata": {},
   "source": [
    "The next cell creates the interactive display for visualizing the attributes in the shapefile. <br>\n",
    "Try different combinations of attributes, ranges, and classes. <br>\n",
    "The histogram displays the range of values within your selected parameters, and the image highlights the image objects that meet your parameters.<br>\n",
    "<br>\n",
    "<span style=\"color:red\">\n",
    "***You must select at least one class before anything will display.***</span>"
   ]
  },
  {
   "cell_type": "code",
   "execution_count": null,
   "metadata": {
    "scrolled": false
   },
   "outputs": [],
   "source": [
    "# Make interactive display\n",
    "# Set up slider bars, one for the minimum value to display, one for the maximum\n",
    "min_slider = widgets.FloatSlider(min=0.000, max=100.000, step=0.001)\n",
    "max_slider = widgets.FloatSlider(min=0.000, max=100.000, step=0.001)    \n",
    "\n",
    "# Create attributes dropdown menu and then watch it for changes and update it changed\n",
    "att_dd = widgets.Dropdown(options=attributes, value=attributes[0], description='Attribute:')\n",
    "att_dd.observe(update_sliders, 'value')\n",
    "\n",
    "b = interactive(att_range, {'manual': True}, att=att_dd, range_min=min_slider, range_max=max_slider, \n",
    "                checks={c.description: c.value for c in chk})\n",
    "display(b)"
   ]
  },
  {
   "cell_type": "code",
   "execution_count": null,
   "metadata": {},
   "outputs": [],
   "source": [
    "def kwf(a, **kwargs):\n",
    "    print(a)\n",
    "#     print([(k,v) for k, v in kwargs.items()])\n",
    "    print([(k,v) for k, v in kwargs['checks'].items()])\n",
    "    \n",
    "kwf(1, checks={c.description: c.value for c in chk}, other_kw=[1,2,3])"
   ]
  },
  {
   "cell_type": "code",
   "execution_count": null,
   "metadata": {},
   "outputs": [],
   "source": [
    "fig = plt.figure(1)\n",
    "gridspec.GridSpec(3,3)\n",
    "ax = plt.subplot2grid((3,3), (0,0), colspan=2, rowspan=3)\n",
    "ax.plot([1,2,3], [1,2,3])"
   ]
  }
 ],
 "metadata": {
  "kernelspec": {
   "display_name": "Python 3",
   "language": "python",
   "name": "python3"
  },
  "language_info": {
   "codemirror_mode": {
    "name": "ipython",
    "version": 3
   },
   "file_extension": ".py",
   "mimetype": "text/x-python",
   "name": "python",
   "nbconvert_exporter": "python",
   "pygments_lexer": "ipython3",
   "version": "3.7.6"
  }
 },
 "nbformat": 4,
 "nbformat_minor": 2
}